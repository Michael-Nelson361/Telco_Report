{
 "cells": [
  {
   "cell_type": "code",
   "execution_count": null,
   "id": "a7550aec-1de1-42b9-9695-b9e0a5f83a6a",
   "metadata": {},
   "outputs": [],
   "source": [
    "### Explore the Telco dataset \n",
    "- [ ] Pull in data\n",
    "- [ ] Prep data (including splitting i)\n",
    "- [ ] Explore univariate data\n",
    "- [ ] Explore bivariate data\n",
    "- [ ] Explore multivariate data"
   ]
  },
  {
   "cell_type": "code",
   "execution_count": null,
   "id": "aa49f6b5-cf5f-4f0e-b821-39713de5f262",
   "metadata": {},
   "outputs": [],
   "source": [
    "### Build the encoders\n",
    "- [ ] Drop columns for the models (build function if necessary)\n",
    "- [ ] Encode the data\n",
    "- [ ] "
   ]
  }
 ],
 "metadata": {
  "kernelspec": {
   "display_name": "Python 3 (ipykernel)",
   "language": "python",
   "name": "python3"
  },
  "language_info": {
   "codemirror_mode": {
    "name": "ipython",
    "version": 3
   },
   "file_extension": ".py",
   "mimetype": "text/x-python",
   "name": "python",
   "nbconvert_exporter": "python",
   "pygments_lexer": "ipython3",
   "version": "3.11.5"
  }
 },
 "nbformat": 4,
 "nbformat_minor": 5
}
