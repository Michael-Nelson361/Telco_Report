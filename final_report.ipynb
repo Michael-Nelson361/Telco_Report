{
 "cells": [
  {
   "cell_type": "code",
   "execution_count": 1,
   "id": "7d2002f8-d164-476a-8313-8224e441c37c",
   "metadata": {
    "tags": []
   },
   "outputs": [],
   "source": [
    "# import personal modules\n",
    "import acquire\n",
    "import prepare\n",
    "import explore\n",
    "import model\n",
    "\n",
    "# import external libraries\n",
    "import pandas as pd\n",
    "import numpy as np\n",
    "\n",
    "# Handle warnings\n",
    "import warnings\n",
    "warnings.simplefilter('ignore')"
   ]
  },
  {
   "cell_type": "code",
   "execution_count": 2,
   "id": "f94a316b-5cec-4a98-9bd7-8af11b2db2e8",
   "metadata": {
    "tags": []
   },
   "outputs": [
    {
     "name": "stdout",
     "output_type": "stream",
     "text": [
      "Reading from file...\n"
     ]
    },
    {
     "data": {
      "text/html": [
       "<div>\n",
       "<style scoped>\n",
       "    .dataframe tbody tr th:only-of-type {\n",
       "        vertical-align: middle;\n",
       "    }\n",
       "\n",
       "    .dataframe tbody tr th {\n",
       "        vertical-align: top;\n",
       "    }\n",
       "\n",
       "    .dataframe thead th {\n",
       "        text-align: right;\n",
       "    }\n",
       "</style>\n",
       "<table border=\"1\" class=\"dataframe\">\n",
       "  <thead>\n",
       "    <tr style=\"text-align: right;\">\n",
       "      <th></th>\n",
       "      <th>nunique</th>\n",
       "      <th>dtypes</th>\n",
       "      <th>isnull</th>\n",
       "      <th>3350</th>\n",
       "    </tr>\n",
       "  </thead>\n",
       "  <tbody>\n",
       "    <tr>\n",
       "      <th>payment_type_id</th>\n",
       "      <td>4</td>\n",
       "      <td>int64</td>\n",
       "      <td>0</td>\n",
       "      <td>4</td>\n",
       "    </tr>\n",
       "    <tr>\n",
       "      <th>internet_service_type_id</th>\n",
       "      <td>3</td>\n",
       "      <td>int64</td>\n",
       "      <td>0</td>\n",
       "      <td>2</td>\n",
       "    </tr>\n",
       "    <tr>\n",
       "      <th>contract_type_id</th>\n",
       "      <td>3</td>\n",
       "      <td>int64</td>\n",
       "      <td>0</td>\n",
       "      <td>3</td>\n",
       "    </tr>\n",
       "    <tr>\n",
       "      <th>customer_id</th>\n",
       "      <td>7043</td>\n",
       "      <td>object</td>\n",
       "      <td>0</td>\n",
       "      <td>4778-IZARL</td>\n",
       "    </tr>\n",
       "    <tr>\n",
       "      <th>gender</th>\n",
       "      <td>2</td>\n",
       "      <td>object</td>\n",
       "      <td>0</td>\n",
       "      <td>Male</td>\n",
       "    </tr>\n",
       "    <tr>\n",
       "      <th>senior_citizen</th>\n",
       "      <td>2</td>\n",
       "      <td>int64</td>\n",
       "      <td>0</td>\n",
       "      <td>0</td>\n",
       "    </tr>\n",
       "    <tr>\n",
       "      <th>partner</th>\n",
       "      <td>2</td>\n",
       "      <td>object</td>\n",
       "      <td>0</td>\n",
       "      <td>Yes</td>\n",
       "    </tr>\n",
       "    <tr>\n",
       "      <th>dependents</th>\n",
       "      <td>2</td>\n",
       "      <td>object</td>\n",
       "      <td>0</td>\n",
       "      <td>No</td>\n",
       "    </tr>\n",
       "    <tr>\n",
       "      <th>tenure</th>\n",
       "      <td>73</td>\n",
       "      <td>int64</td>\n",
       "      <td>0</td>\n",
       "      <td>63</td>\n",
       "    </tr>\n",
       "    <tr>\n",
       "      <th>phone_service</th>\n",
       "      <td>2</td>\n",
       "      <td>object</td>\n",
       "      <td>0</td>\n",
       "      <td>Yes</td>\n",
       "    </tr>\n",
       "    <tr>\n",
       "      <th>multiple_lines</th>\n",
       "      <td>3</td>\n",
       "      <td>object</td>\n",
       "      <td>0</td>\n",
       "      <td>No</td>\n",
       "    </tr>\n",
       "    <tr>\n",
       "      <th>online_security</th>\n",
       "      <td>3</td>\n",
       "      <td>object</td>\n",
       "      <td>0</td>\n",
       "      <td>Yes</td>\n",
       "    </tr>\n",
       "    <tr>\n",
       "      <th>online_backup</th>\n",
       "      <td>3</td>\n",
       "      <td>object</td>\n",
       "      <td>0</td>\n",
       "      <td>Yes</td>\n",
       "    </tr>\n",
       "    <tr>\n",
       "      <th>device_protection</th>\n",
       "      <td>3</td>\n",
       "      <td>object</td>\n",
       "      <td>0</td>\n",
       "      <td>Yes</td>\n",
       "    </tr>\n",
       "    <tr>\n",
       "      <th>tech_support</th>\n",
       "      <td>3</td>\n",
       "      <td>object</td>\n",
       "      <td>0</td>\n",
       "      <td>Yes</td>\n",
       "    </tr>\n",
       "    <tr>\n",
       "      <th>streaming_tv</th>\n",
       "      <td>3</td>\n",
       "      <td>object</td>\n",
       "      <td>0</td>\n",
       "      <td>Yes</td>\n",
       "    </tr>\n",
       "    <tr>\n",
       "      <th>streaming_movies</th>\n",
       "      <td>3</td>\n",
       "      <td>object</td>\n",
       "      <td>0</td>\n",
       "      <td>Yes</td>\n",
       "    </tr>\n",
       "    <tr>\n",
       "      <th>paperless_billing</th>\n",
       "      <td>2</td>\n",
       "      <td>object</td>\n",
       "      <td>0</td>\n",
       "      <td>Yes</td>\n",
       "    </tr>\n",
       "    <tr>\n",
       "      <th>monthly_charges</th>\n",
       "      <td>1585</td>\n",
       "      <td>float64</td>\n",
       "      <td>0</td>\n",
       "      <td>110.1</td>\n",
       "    </tr>\n",
       "    <tr>\n",
       "      <th>total_charges</th>\n",
       "      <td>6531</td>\n",
       "      <td>object</td>\n",
       "      <td>0</td>\n",
       "      <td>6705.7</td>\n",
       "    </tr>\n",
       "    <tr>\n",
       "      <th>churn</th>\n",
       "      <td>2</td>\n",
       "      <td>object</td>\n",
       "      <td>0</td>\n",
       "      <td>No</td>\n",
       "    </tr>\n",
       "    <tr>\n",
       "      <th>contract_type</th>\n",
       "      <td>3</td>\n",
       "      <td>object</td>\n",
       "      <td>0</td>\n",
       "      <td>Two year</td>\n",
       "    </tr>\n",
       "    <tr>\n",
       "      <th>internet_service_type</th>\n",
       "      <td>2</td>\n",
       "      <td>object</td>\n",
       "      <td>1526</td>\n",
       "      <td>Fiber optic</td>\n",
       "    </tr>\n",
       "    <tr>\n",
       "      <th>payment_type</th>\n",
       "      <td>4</td>\n",
       "      <td>object</td>\n",
       "      <td>0</td>\n",
       "      <td>Credit card (automatic)</td>\n",
       "    </tr>\n",
       "  </tbody>\n",
       "</table>\n",
       "</div>"
      ],
      "text/plain": [
       "                          nunique   dtypes  isnull                     3350\n",
       "payment_type_id                 4    int64       0                        4\n",
       "internet_service_type_id        3    int64       0                        2\n",
       "contract_type_id                3    int64       0                        3\n",
       "customer_id                  7043   object       0               4778-IZARL\n",
       "gender                          2   object       0                     Male\n",
       "senior_citizen                  2    int64       0                        0\n",
       "partner                         2   object       0                      Yes\n",
       "dependents                      2   object       0                       No\n",
       "tenure                         73    int64       0                       63\n",
       "phone_service                   2   object       0                      Yes\n",
       "multiple_lines                  3   object       0                       No\n",
       "online_security                 3   object       0                      Yes\n",
       "online_backup                   3   object       0                      Yes\n",
       "device_protection               3   object       0                      Yes\n",
       "tech_support                    3   object       0                      Yes\n",
       "streaming_tv                    3   object       0                      Yes\n",
       "streaming_movies                3   object       0                      Yes\n",
       "paperless_billing               2   object       0                      Yes\n",
       "monthly_charges              1585  float64       0                    110.1\n",
       "total_charges                6531   object       0                   6705.7\n",
       "churn                           2   object       0                       No\n",
       "contract_type                   3   object       0                 Two year\n",
       "internet_service_type           2   object    1526              Fiber optic\n",
       "payment_type                    4   object       0  Credit card (automatic)"
      ]
     },
     "execution_count": 2,
     "metadata": {},
     "output_type": "execute_result"
    }
   ],
   "source": [
    "# acquire data\n",
    "raw_telco = acquire.get_telco_data()\n",
    "acquire.df_info(raw_telco)"
   ]
  },
  {
   "cell_type": "code",
   "execution_count": 3,
   "id": "29dc0073-8ded-462e-a063-dd61185c89fb",
   "metadata": {
    "tags": []
   },
   "outputs": [],
   "source": [
    "# prepare data\n",
    "telco = prepare.prep_telco(raw_telco)"
   ]
  },
  {
   "cell_type": "code",
   "execution_count": 4,
   "id": "e6e38395-a3cf-4d79-8a9f-126d7bc93564",
   "metadata": {
    "tags": []
   },
   "outputs": [],
   "source": [
    "# split data\n",
    "tvt_set = train,validate,test = prepare.split_df(telco,'churn')"
   ]
  },
  {
   "cell_type": "code",
   "execution_count": 5,
   "id": "e983c682-dd4a-49e1-852b-a2021abe792d",
   "metadata": {},
   "outputs": [],
   "source": [
    "# Graph -> stats test -> recap"
   ]
  },
  {
   "cell_type": "code",
   "execution_count": 6,
   "id": "0a3a7753-e289-4eac-80c1-066a27d8c509",
   "metadata": {
    "tags": []
   },
   "outputs": [
    {
     "data": {
      "image/png": "[encoded data removed]",
      "text/plain": [
       "<Figure size 640x480 with 1 Axes>"
      ]
     },
     "metadata": {},
     "output_type": "display_data"
    },
    {
     "name": "stdout",
     "output_type": "stream",
     "text": [
      "H_0: Churn is independent of contract type.\n",
      "H_a: Churn is not independent of contract type.\n",
      "\n",
      "We reject the null hypothesis.\n",
      " Our p-value is 8.298049251133243e-156 \n",
      " Our statistic value is 714.1745080997528\n"
     ]
    }
   ],
   "source": [
    "# explore data\n",
    "explore.contract_churn(train)"
   ]
  },
  {
   "cell_type": "code",
   "execution_count": 7,
   "id": "e92ffb14-6258-4621-aaec-d9adc9c913ad",
   "metadata": {
    "tags": []
   },
   "outputs": [
    {
     "data": {
      "image/png": "[encoded data removed]",
      "text/plain": [
       "<Figure size 640x480 with 1 Axes>"
      ]
     },
     "metadata": {},
     "output_type": "display_data"
    },
    {
     "name": "stdout",
     "output_type": "stream",
     "text": [
      "H_0: Churn and having internet are independent.\n",
      "H_a: Churn and having internet are not independent.\n",
      "\n",
      "We reject the null hypothesis.\n",
      " Our p-value is 1.9838411045748552e-48 \n",
      " Our statistic value is 213.85198688891234\n"
     ]
    }
   ],
   "source": [
    "explore.internet_churn(train)"
   ]
  },
  {
   "cell_type": "code",
   "execution_count": 8,
   "id": "12c61a66-bb3a-4d5a-9b94-fea232ada268",
   "metadata": {
    "tags": []
   },
   "outputs": [
    {
     "data": {
      "image/png": "[encoded data removed]",
      "text/plain": [
       "<Figure size 640x480 with 1 Axes>"
      ]
     },
     "metadata": {},
     "output_type": "display_data"
    },
    {
     "name": "stdout",
     "output_type": "stream",
     "text": [
      "Running Shapiro test for normalcy:\n",
      "H_0: Monthly charges is distributed normally.\n",
      "H_a: Monthly charges is not distributed normally.\n",
      "\n",
      "We reject the null hypothesis.\n",
      " Our p-value is 5.647232811229013e-43 \n",
      " Our statistic value is 0.9185670018196106\n",
      "\n",
      "Running Mann-Whitney means test:\n",
      "H_0: There is no difference between the monthly charges of customers who have churned and those who have not.\n",
      "H_a: There is a difference between the monthly charges of customers who have churned and those who have not.\n",
      "\n",
      "We reject the null hypothesis.\n",
      " Our p-value is 9.83259830397179e-30 \n",
      " Our statistic value is 2136241.0\n"
     ]
    }
   ],
   "source": [
    "explore.month_charges_churn(train)"
   ]
  },
  {
   "cell_type": "code",
   "execution_count": 9,
   "id": "df754559-ed62-4a8f-a8a8-fefa963b6bee",
   "metadata": {
    "tags": []
   },
   "outputs": [
    {
     "data": {
      "image/png": "[encoded data removed]",
      "text/plain": [
       "<Figure size 1572.12x500 with 3 Axes>"
      ]
     },
     "metadata": {},
     "output_type": "display_data"
    }
   ],
   "source": [
    "explore.churn_contract_internet(train)"
   ]
  },
  {
   "cell_type": "code",
   "execution_count": 10,
   "id": "13a9e719-98f7-4b98-8a6f-b128c8185286",
   "metadata": {
    "tags": []
   },
   "outputs": [
    {
     "data": {
      "text/html": [
       "<div>\n",
       "<style scoped>\n",
       "    .dataframe tbody tr th:only-of-type {\n",
       "        vertical-align: middle;\n",
       "    }\n",
       "\n",
       "    .dataframe tbody tr th {\n",
       "        vertical-align: top;\n",
       "    }\n",
       "\n",
       "    .dataframe thead th {\n",
       "        text-align: right;\n",
       "    }\n",
       "</style>\n",
       "<table border=\"1\" class=\"dataframe\">\n",
       "  <thead>\n",
       "    <tr style=\"text-align: right;\">\n",
       "      <th></th>\n",
       "      <th>nunique</th>\n",
       "      <th>dtypes</th>\n",
       "      <th>isnull</th>\n",
       "      <th>6175-IRFIT</th>\n",
       "    </tr>\n",
       "  </thead>\n",
       "  <tbody>\n",
       "    <tr>\n",
       "      <th>tenure_months</th>\n",
       "      <td>73</td>\n",
       "      <td>int64</td>\n",
       "      <td>0</td>\n",
       "      <td>5.00</td>\n",
       "    </tr>\n",
       "    <tr>\n",
       "      <th>monthly_charges</th>\n",
       "      <td>1374</td>\n",
       "      <td>float64</td>\n",
       "      <td>0</td>\n",
       "      <td>78.75</td>\n",
       "    </tr>\n",
       "    <tr>\n",
       "      <th>total_charges</th>\n",
       "      <td>4006</td>\n",
       "      <td>float64</td>\n",
       "      <td>0</td>\n",
       "      <td>426.35</td>\n",
       "    </tr>\n",
       "    <tr>\n",
       "      <th>gender_is_Male</th>\n",
       "      <td>2</td>\n",
       "      <td>float64</td>\n",
       "      <td>0</td>\n",
       "      <td>1.00</td>\n",
       "    </tr>\n",
       "    <tr>\n",
       "      <th>senior_citizen_is_Yes</th>\n",
       "      <td>2</td>\n",
       "      <td>float64</td>\n",
       "      <td>0</td>\n",
       "      <td>0.00</td>\n",
       "    </tr>\n",
       "    <tr>\n",
       "      <th>married_is_Yes</th>\n",
       "      <td>2</td>\n",
       "      <td>float64</td>\n",
       "      <td>0</td>\n",
       "      <td>0.00</td>\n",
       "    </tr>\n",
       "    <tr>\n",
       "      <th>children_is_Yes</th>\n",
       "      <td>2</td>\n",
       "      <td>float64</td>\n",
       "      <td>0</td>\n",
       "      <td>0.00</td>\n",
       "    </tr>\n",
       "    <tr>\n",
       "      <th>paperless_billing_is_Yes</th>\n",
       "      <td>2</td>\n",
       "      <td>float64</td>\n",
       "      <td>0</td>\n",
       "      <td>0.00</td>\n",
       "    </tr>\n",
       "    <tr>\n",
       "      <th>contract_type_is_One year</th>\n",
       "      <td>2</td>\n",
       "      <td>float64</td>\n",
       "      <td>0</td>\n",
       "      <td>0.00</td>\n",
       "    </tr>\n",
       "    <tr>\n",
       "      <th>contract_type_is_Two year</th>\n",
       "      <td>2</td>\n",
       "      <td>float64</td>\n",
       "      <td>0</td>\n",
       "      <td>0.00</td>\n",
       "    </tr>\n",
       "    <tr>\n",
       "      <th>internet_service_type_is_Fiber optic</th>\n",
       "      <td>2</td>\n",
       "      <td>float64</td>\n",
       "      <td>0</td>\n",
       "      <td>1.00</td>\n",
       "    </tr>\n",
       "    <tr>\n",
       "      <th>internet_service_type_is_None</th>\n",
       "      <td>2</td>\n",
       "      <td>float64</td>\n",
       "      <td>0</td>\n",
       "      <td>0.00</td>\n",
       "    </tr>\n",
       "    <tr>\n",
       "      <th>payment_type_is_Credit card (automatic)</th>\n",
       "      <td>2</td>\n",
       "      <td>float64</td>\n",
       "      <td>0</td>\n",
       "      <td>0.00</td>\n",
       "    </tr>\n",
       "    <tr>\n",
       "      <th>payment_type_is_Electronic check</th>\n",
       "      <td>2</td>\n",
       "      <td>float64</td>\n",
       "      <td>0</td>\n",
       "      <td>0.00</td>\n",
       "    </tr>\n",
       "    <tr>\n",
       "      <th>payment_type_is_Mailed check</th>\n",
       "      <td>2</td>\n",
       "      <td>float64</td>\n",
       "      <td>0</td>\n",
       "      <td>1.00</td>\n",
       "    </tr>\n",
       "    <tr>\n",
       "      <th>streaming_is_Movies</th>\n",
       "      <td>2</td>\n",
       "      <td>float64</td>\n",
       "      <td>0</td>\n",
       "      <td>1.00</td>\n",
       "    </tr>\n",
       "    <tr>\n",
       "      <th>streaming_is_Neither</th>\n",
       "      <td>2</td>\n",
       "      <td>float64</td>\n",
       "      <td>0</td>\n",
       "      <td>0.00</td>\n",
       "    </tr>\n",
       "    <tr>\n",
       "      <th>streaming_is_No internet service</th>\n",
       "      <td>2</td>\n",
       "      <td>float64</td>\n",
       "      <td>0</td>\n",
       "      <td>0.00</td>\n",
       "    </tr>\n",
       "    <tr>\n",
       "      <th>streaming_is_TV</th>\n",
       "      <td>2</td>\n",
       "      <td>float64</td>\n",
       "      <td>0</td>\n",
       "      <td>0.00</td>\n",
       "    </tr>\n",
       "    <tr>\n",
       "      <th>phone_lines_is_No phone service</th>\n",
       "      <td>2</td>\n",
       "      <td>float64</td>\n",
       "      <td>0</td>\n",
       "      <td>0.00</td>\n",
       "    </tr>\n",
       "    <tr>\n",
       "      <th>phone_lines_is_Single</th>\n",
       "      <td>2</td>\n",
       "      <td>float64</td>\n",
       "      <td>0</td>\n",
       "      <td>1.00</td>\n",
       "    </tr>\n",
       "    <tr>\n",
       "      <th>protection_is_Device Protection</th>\n",
       "      <td>2</td>\n",
       "      <td>float64</td>\n",
       "      <td>0</td>\n",
       "      <td>0.00</td>\n",
       "    </tr>\n",
       "    <tr>\n",
       "      <th>protection_is_Neither</th>\n",
       "      <td>2</td>\n",
       "      <td>float64</td>\n",
       "      <td>0</td>\n",
       "      <td>1.00</td>\n",
       "    </tr>\n",
       "    <tr>\n",
       "      <th>protection_is_No internet service</th>\n",
       "      <td>2</td>\n",
       "      <td>float64</td>\n",
       "      <td>0</td>\n",
       "      <td>0.00</td>\n",
       "    </tr>\n",
       "    <tr>\n",
       "      <th>protection_is_Online Security</th>\n",
       "      <td>2</td>\n",
       "      <td>float64</td>\n",
       "      <td>0</td>\n",
       "      <td>0.00</td>\n",
       "    </tr>\n",
       "    <tr>\n",
       "      <th>support_is_Neither</th>\n",
       "      <td>2</td>\n",
       "      <td>float64</td>\n",
       "      <td>0</td>\n",
       "      <td>1.00</td>\n",
       "    </tr>\n",
       "    <tr>\n",
       "      <th>support_is_No internet service</th>\n",
       "      <td>2</td>\n",
       "      <td>float64</td>\n",
       "      <td>0</td>\n",
       "      <td>0.00</td>\n",
       "    </tr>\n",
       "    <tr>\n",
       "      <th>support_is_Online Backup</th>\n",
       "      <td>2</td>\n",
       "      <td>float64</td>\n",
       "      <td>0</td>\n",
       "      <td>0.00</td>\n",
       "    </tr>\n",
       "    <tr>\n",
       "      <th>support_is_Tech Support</th>\n",
       "      <td>2</td>\n",
       "      <td>float64</td>\n",
       "      <td>0</td>\n",
       "      <td>0.00</td>\n",
       "    </tr>\n",
       "  </tbody>\n",
       "</table>\n",
       "</div>"
      ],
      "text/plain": [
       "                                         nunique   dtypes  isnull  6175-IRFIT\n",
       "tenure_months                                 73    int64       0        5.00\n",
       "monthly_charges                             1374  float64       0       78.75\n",
       "total_charges                               4006  float64       0      426.35\n",
       "gender_is_Male                                 2  float64       0        1.00\n",
       "senior_citizen_is_Yes                          2  float64       0        0.00\n",
       "married_is_Yes                                 2  float64       0        0.00\n",
       "children_is_Yes                                2  float64       0        0.00\n",
       "paperless_billing_is_Yes                       2  float64       0        0.00\n",
       "contract_type_is_One year                      2  float64       0        0.00\n",
       "contract_type_is_Two year                      2  float64       0        0.00\n",
       "internet_service_type_is_Fiber optic           2  float64       0        1.00\n",
       "internet_service_type_is_None                  2  float64       0        0.00\n",
       "payment_type_is_Credit card (automatic)        2  float64       0        0.00\n",
       "payment_type_is_Electronic check               2  float64       0        0.00\n",
       "payment_type_is_Mailed check                   2  float64       0        1.00\n",
       "streaming_is_Movies                            2  float64       0        1.00\n",
       "streaming_is_Neither                           2  float64       0        0.00\n",
       "streaming_is_No internet service               2  float64       0        0.00\n",
       "streaming_is_TV                                2  float64       0        0.00\n",
       "phone_lines_is_No phone service                2  float64       0        0.00\n",
       "phone_lines_is_Single                          2  float64       0        1.00\n",
       "protection_is_Device Protection                2  float64       0        0.00\n",
       "protection_is_Neither                          2  float64       0        1.00\n",
       "protection_is_No internet service              2  float64       0        0.00\n",
       "protection_is_Online Security                  2  float64       0        0.00\n",
       "support_is_Neither                             2  float64       0        1.00\n",
       "support_is_No internet service                 2  float64       0        0.00\n",
       "support_is_Online Backup                       2  float64       0        0.00\n",
       "support_is_Tech Support                        2  float64       0        0.00"
      ]
     },
     "execution_count": 10,
     "metadata": {},
     "output_type": "execute_result"
    }
   ],
   "source": [
    "# pre-process data for models\n",
    "# !!! explicitely explain X_set !!!\n",
    "X_set,y_set = model.Xy_sets(tvt_set,'churn')\n",
    "acquire.df_info(X_set[0])"
   ]
  },
  {
   "cell_type": "code",
   "execution_count": 11,
   "id": "96eec45d-3a02-4f73-a7e2-4027bbe68439",
   "metadata": {},
   "outputs": [],
   "source": [
    "# run modeling\n",
    "# extrapolate on models built\n",
    "dt_models = model.dt_modeling(X_set,y_set)\n",
    "rf_models = model.rf_modeling(X_set,y_set)\n",
    "knn_models = model.knn_modeling(X_set,y_set)\n",
    "lr_models = model.lr_modeling(X_set,y_set)"
   ]
  },
  {
   "cell_type": "code",
   "execution_count": 12,
   "id": "6a7baadf-f569-4dc8-829d-7f80a29c820b",
   "metadata": {
    "tags": []
   },
   "outputs": [],
   "source": [
    "# Filter models\n",
    "dt_models = model.metrics_filter(dt_models,y_set[0])\n",
    "rf_models = model.metrics_filter(rf_models,y_set[0])\n",
    "knn_models = model.metrics_filter(knn_models,y_set[0])\n",
    "lr_models = model.metrics_filter(lr_models,y_set[0])"
   ]
  },
  {
   "cell_type": "code",
   "execution_count": 13,
   "id": "8d3960d5-168b-42a8-9532-c2a76fce7316",
   "metadata": {
    "tags": []
   },
   "outputs": [
    {
     "data": {
      "text/html": [
       "<div>\n",
       "<style scoped>\n",
       "    .dataframe tbody tr th:only-of-type {\n",
       "        vertical-align: middle;\n",
       "    }\n",
       "\n",
       "    .dataframe tbody tr th {\n",
       "        vertical-align: top;\n",
       "    }\n",
       "\n",
       "    .dataframe thead th {\n",
       "        text-align: right;\n",
       "    }\n",
       "</style>\n",
       "<table border=\"1\" class=\"dataframe\">\n",
       "  <thead>\n",
       "    <tr style=\"text-align: right;\">\n",
       "      <th></th>\n",
       "      <th>type</th>\n",
       "      <th>model</th>\n",
       "      <th>train_acc</th>\n",
       "      <th>validate_acc</th>\n",
       "      <th>hyperparameters</th>\n",
       "      <th>difference</th>\n",
       "      <th>average</th>\n",
       "    </tr>\n",
       "  </thead>\n",
       "  <tbody>\n",
       "    <tr>\n",
       "      <th>2</th>\n",
       "      <td>RandomForest</td>\n",
       "      <td>(DecisionTreeClassifier(max_depth=8, max_features='sqrt', random_state=843828734), Dec...</td>\n",
       "      <td>0.836450</td>\n",
       "      <td>0.803407</td>\n",
       "      <td>max_depth=8</td>\n",
       "      <td>0.033043</td>\n",
       "      <td>0.819928</td>\n",
       "    </tr>\n",
       "    <tr>\n",
       "      <th>3</th>\n",
       "      <td>RandomForest</td>\n",
       "      <td>(DecisionTreeClassifier(max_depth=9, max_features='sqrt', random_state=843828734), Dec...</td>\n",
       "      <td>0.860355</td>\n",
       "      <td>0.806246</td>\n",
       "      <td>max_depth=9</td>\n",
       "      <td>0.054109</td>\n",
       "      <td>0.833300</td>\n",
       "    </tr>\n",
       "    <tr>\n",
       "      <th>8</th>\n",
       "      <td>LogisticRegression</td>\n",
       "      <td>LogisticRegression(C=12, random_state=123)</td>\n",
       "      <td>0.803077</td>\n",
       "      <td>0.812633</td>\n",
       "      <td>C=12</td>\n",
       "      <td>-0.009556</td>\n",
       "      <td>0.807855</td>\n",
       "    </tr>\n",
       "  </tbody>\n",
       "</table>\n",
       "</div>"
      ],
      "text/plain": [
       "                 type  \\\n",
       "2        RandomForest   \n",
       "3        RandomForest   \n",
       "8  LogisticRegression   \n",
       "\n",
       "                                                                                       model  \\\n",
       "2  (DecisionTreeClassifier(max_depth=8, max_features='sqrt', random_state=843828734), Dec...   \n",
       "3  (DecisionTreeClassifier(max_depth=9, max_features='sqrt', random_state=843828734), Dec...   \n",
       "8                                                 LogisticRegression(C=12, random_state=123)   \n",
       "\n",
       "   train_acc  validate_acc hyperparameters  difference   average  \n",
       "2   0.836450      0.803407     max_depth=8    0.033043  0.819928  \n",
       "3   0.860355      0.806246     max_depth=9    0.054109  0.833300  \n",
       "8   0.803077      0.812633            C=12   -0.009556  0.807855  "
      ]
     },
     "execution_count": 13,
     "metadata": {},
     "output_type": "execute_result"
    }
   ],
   "source": [
    "# Select final best models\n",
    "finals = model.final_models([dt_models,rf_models,knn_models,lr_models])\n",
    "finals"
   ]
  },
  {
   "cell_type": "code",
   "execution_count": 14,
   "id": "b3e55beb-5b34-4743-b7dd-ac3ea09d4160",
   "metadata": {
    "tags": []
   },
   "outputs": [
    {
     "data": {
      "text/html": [
       "<style>#sk-container-id-1 {color: black;}#sk-container-id-1 pre{padding: 0;}#sk-container-id-1 div.sk-toggleable {background-color: white;}#sk-container-id-1 label.sk-toggleable__label {cursor: pointer;display: block;width: 100%;margin-bottom: 0;padding: 0.3em;box-sizing: border-box;text-align: center;}#sk-container-id-1 label.sk-toggleable__label-arrow:before {content: \"▸\";float: left;margin-right: 0.25em;color: #696969;}#sk-container-id-1 label.sk-toggleable__label-arrow:hover:before {color: black;}#sk-container-id-1 div.sk-estimator:hover label.sk-toggleable__label-arrow:before {color: black;}#sk-container-id-1 div.sk-toggleable__content {max-height: 0;max-width: 0;overflow: hidden;text-align: left;background-color: #f0f8ff;}#sk-container-id-1 div.sk-toggleable__content pre {margin: 0.2em;color: black;border-radius: 0.25em;background-color: #f0f8ff;}#sk-container-id-1 input.sk-toggleable__control:checked~div.sk-toggleable__content {max-height: 200px;max-width: 100%;overflow: auto;}#sk-container-id-1 input.sk-toggleable__control:checked~label.sk-toggleable__label-arrow:before {content: \"▾\";}#sk-container-id-1 div.sk-estimator input.sk-toggleable__control:checked~label.sk-toggleable__label {background-color: #d4ebff;}#sk-container-id-1 div.sk-label input.sk-toggleable__control:checked~label.sk-toggleable__label {background-color: #d4ebff;}#sk-container-id-1 input.sk-hidden--visually {border: 0;clip: rect(1px 1px 1px 1px);clip: rect(1px, 1px, 1px, 1px);height: 1px;margin: -1px;overflow: hidden;padding: 0;position: absolute;width: 1px;}#sk-container-id-1 div.sk-estimator {font-family: monospace;background-color: #f0f8ff;border: 1px dotted black;border-radius: 0.25em;box-sizing: border-box;margin-bottom: 0.5em;}#sk-container-id-1 div.sk-estimator:hover {background-color: #d4ebff;}#sk-container-id-1 div.sk-parallel-item::after {content: \"\";width: 100%;border-bottom: 1px solid gray;flex-grow: 1;}#sk-container-id-1 div.sk-label:hover label.sk-toggleable__label {background-color: #d4ebff;}#sk-container-id-1 div.sk-serial::before {content: \"\";position: absolute;border-left: 1px solid gray;box-sizing: border-box;top: 0;bottom: 0;left: 50%;z-index: 0;}#sk-container-id-1 div.sk-serial {display: flex;flex-direction: column;align-items: center;background-color: white;padding-right: 0.2em;padding-left: 0.2em;position: relative;}#sk-container-id-1 div.sk-item {position: relative;z-index: 1;}#sk-container-id-1 div.sk-parallel {display: flex;align-items: stretch;justify-content: center;background-color: white;position: relative;}#sk-container-id-1 div.sk-item::before, #sk-container-id-1 div.sk-parallel-item::before {content: \"\";position: absolute;border-left: 1px solid gray;box-sizing: border-box;top: 0;bottom: 0;left: 50%;z-index: -1;}#sk-container-id-1 div.sk-parallel-item {display: flex;flex-direction: column;z-index: 1;position: relative;background-color: white;}#sk-container-id-1 div.sk-parallel-item:first-child::after {align-self: flex-end;width: 50%;}#sk-container-id-1 div.sk-parallel-item:last-child::after {align-self: flex-start;width: 50%;}#sk-container-id-1 div.sk-parallel-item:only-child::after {width: 0;}#sk-container-id-1 div.sk-dashed-wrapped {border: 1px dashed gray;margin: 0 0.4em 0.5em 0.4em;box-sizing: border-box;padding-bottom: 0.4em;background-color: white;}#sk-container-id-1 div.sk-label label {font-family: monospace;font-weight: bold;display: inline-block;line-height: 1.2em;}#sk-container-id-1 div.sk-label-container {text-align: center;}#sk-container-id-1 div.sk-container {/* jupyter's `normalize.less` sets `[hidden] { display: none; }` but bootstrap.min.css set `[hidden] { display: none !important; }` so we also need the `!important` here to be able to override the default hidden behavior on the sphinx rendered scikit-learn.org. See: https://github.com/scikit-learn/scikit-learn/issues/21755 */display: inline-block !important;position: relative;}#sk-container-id-1 div.sk-text-repr-fallback {display: none;}</style><div id=\"sk-container-id-1\" class=\"sk-top-container\"><div class=\"sk-text-repr-fallback\"><pre>RandomForestClassifier(max_depth=8, random_state=123)</pre><b>In a Jupyter environment, please rerun this cell to show the HTML representation or trust the notebook. <br />On GitHub, the HTML representation is unable to render, please try loading this page with nbviewer.org.</b></div><div class=\"sk-container\" hidden><div class=\"sk-item\"><div class=\"sk-estimator sk-toggleable\"><input class=\"sk-toggleable__control sk-hidden--visually\" id=\"sk-estimator-id-1\" type=\"checkbox\" checked><label for=\"sk-estimator-id-1\" class=\"sk-toggleable__label sk-toggleable__label-arrow\">RandomForestClassifier</label><div class=\"sk-toggleable__content\"><pre>RandomForestClassifier(max_depth=8, random_state=123)</pre></div></div></div></div></div>"
      ],
      "text/plain": [
       "RandomForestClassifier(max_depth=8, random_state=123)"
      ]
     },
     "execution_count": 14,
     "metadata": {},
     "output_type": "execute_result"
    }
   ],
   "source": [
    "# Isolate the best model\n",
    "best_model = finals.iloc[0,1]\n",
    "best_model"
   ]
  },
  {
   "cell_type": "code",
   "execution_count": 15,
   "id": "7f53748b-3b2d-41a0-9085-cc82366151de",
   "metadata": {
    "tags": []
   },
   "outputs": [
    {
     "data": {
      "text/plain": [
       "0.8055358410220014"
      ]
     },
     "execution_count": 15,
     "metadata": {},
     "output_type": "execute_result"
    }
   ],
   "source": [
    "# Run final test\n",
    "best_model.score(X_set[2],y_set[2])"
   ]
  },
  {
   "cell_type": "code",
   "execution_count": 16,
   "id": "a52fd099-a4ed-40f0-bd0d-4c3eb7cfad9f",
   "metadata": {
    "tags": []
   },
   "outputs": [],
   "source": [
    "# Generate CSV of overall model predictions\n",
    "pd.DataFrame({\n",
    "    'Customer_ID':X_set[2].index,\n",
    "    # 'actual':y_set[2],\n",
    "    'Probability of Churn':[prob[1] for prob in best_model.predict_proba(X_set[2])],\n",
    "    'Prediction of Churn':np.where(best_model.predict(X_set[2]) == 'Yes', 1, 0)\n",
    "}).to_csv('predictions.csv',index=False)"
   ]
  },
  {
   "cell_type": "code",
   "execution_count": null,
   "id": "768a1dde-e0a6-4bd6-8c4f-0e3442acd053",
   "metadata": {},
   "outputs": [],
   "source": []
  }
 ],
 "metadata": {
  "kernelspec": {
   "display_name": "Python 3 (ipykernel)",
   "language": "python",
   "name": "python3"
  },
  "language_info": {
   "codemirror_mode": {
    "name": "ipython",
    "version": 3
   },
   "file_extension": ".py",
   "mimetype": "text/x-python",
   "name": "python",
   "nbconvert_exporter": "python",
   "pygments_lexer": "ipython3",
   "version": "3.11.5"
  }
 },
 "nbformat": 4,
 "nbformat_minor": 5
}
